{
 "cells": [
  {
   "cell_type": "markdown",
   "id": "47979c37",
   "metadata": {},
   "source": [
    "Data Science Tools and Ecosystem"
   ]
  },
  {
   "cell_type": "markdown",
   "id": "c93e68e0",
   "metadata": {},
   "source": [
    "In this notebook, Data Science Tools and Ecosystem are summarized."
   ]
  },
  {
   "cell_type": "markdown",
   "id": "8ffef6c0",
   "metadata": {},
   "source": [
    "Some of the popular languages that Data Scientists use are:\n",
    "1- Python\n",
    "2- R\n",
    "3- Julia\n",
    "4- SQL\n",
    "5- Scala\n",
    "6- Java\n",
    "7- C++"
   ]
  },
  {
   "cell_type": "markdown",
   "id": "279237af",
   "metadata": {},
   "source": [
    "Some of the commonly used libraries used by Data Scientists include:\n",
    "1- Pandas\n",
    "2- Matplotlib\n",
    "3- NumPy\n",
    "4- SciPy\n",
    "5- Scikit-learn"
   ]
  },
  {
   "cell_type": "markdown",
   "id": "f0ea7e13",
   "metadata": {},
   "source": [
    "| Data Science Tools |\n",
    "|--------------------|\n",
    "|Jupyter Notebook    |\n",
    "|RStudio             |\n",
    "|Apache Zeppelin     |\n",
    "\n"
   ]
  },
  {
   "cell_type": "markdown",
   "id": "c54eaaf5",
   "metadata": {},
   "source": [
    "### Below are a few examples of evaluating arithmetic expressions in Python"
   ]
  },
  {
   "cell_type": "code",
   "execution_count": 1,
   "id": "d0944ed1",
   "metadata": {},
   "outputs": [
    {
     "data": {
      "text/plain": [
       "17"
      ]
     },
     "execution_count": 1,
     "metadata": {},
     "output_type": "execute_result"
    }
   ],
   "source": [
    "# This a simple arithmetic expression to mutiply then add integers\n",
    "(3*4)+5"
   ]
  },
  {
   "cell_type": "code",
   "execution_count": 2,
   "id": "9e2c0ba4",
   "metadata": {},
   "outputs": [
    {
     "data": {
      "text/plain": [
       "3.3333333333333335"
      ]
     },
     "execution_count": 2,
     "metadata": {},
     "output_type": "execute_result"
    }
   ],
   "source": [
    "#  This will convert 200 minutes to hours by diving by 60\n",
    "200/60"
   ]
  },
  {
   "cell_type": "markdown",
   "id": "713a57f0",
   "metadata": {},
   "source": [
    "**Objectives:**\n",
    "- List popular languages for Data Science\n",
    "- List commonly used libraries in Data Science\n",
    "- Create tables and lists in Markdown\n",
    "- Evaluate arithmetic expressions in Python\n",
    "- Convert units using Python\n"
   ]
  },
  {
   "cell_type": "markdown",
   "id": "144f680f",
   "metadata": {},
   "source": [
    "## Author\n",
    "Jessica Atencia"
   ]
  }
 ],
 "metadata": {
  "kernelspec": {
   "display_name": "Python 3",
   "language": "python",
   "name": "python3"
  },
  "language_info": {
   "codemirror_mode": {
    "name": "ipython",
    "version": 3
   },
   "file_extension": ".py",
   "mimetype": "text/x-python",
   "name": "python",
   "nbconvert_exporter": "python",
   "pygments_lexer": "ipython3",
   "version": "3.13.2"
  }
 },
 "nbformat": 4,
 "nbformat_minor": 5
}
